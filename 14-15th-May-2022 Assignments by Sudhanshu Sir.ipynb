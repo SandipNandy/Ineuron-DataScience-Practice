{
 "cells": [
  {
   "cell_type": "code",
   "execution_count": 1,
   "id": "8a63dfc2",
   "metadata": {},
   "outputs": [],
   "source": [
    "S=\"this is My First Python programming class and i am learNING python string and its function\""
   ]
  },
  {
   "cell_type": "code",
   "execution_count": 2,
   "id": "953f5213",
   "metadata": {},
   "outputs": [
    {
     "data": {
      "text/plain": [
       "'h   r tnrrmglsnimeNGyosi dtfco'"
      ]
     },
     "execution_count": 2,
     "metadata": {},
     "output_type": "execute_result"
    }
   ],
   "source": [
    "# 1. Try to extract data from index one to index 300 with the jump of 3\n",
    "S[1:301:3]\n"
   ]
  },
  {
   "cell_type": "code",
   "execution_count": 4,
   "id": "bc10de1b",
   "metadata": {},
   "outputs": [
    {
     "data": {
      "text/plain": [
       "'noitcnuf sti dna gnirts nohtyp GNINrael ma i dna ssalc gnimmargorp nohtyP tsriF yM si siht'"
      ]
     },
     "execution_count": 4,
     "metadata": {},
     "output_type": "execute_result"
    }
   ],
   "source": [
    "#2. Try to Reverse a string without using reverse function\n",
    "S[::-1]"
   ]
  },
  {
   "cell_type": "code",
   "execution_count": 7,
   "id": "12a408bf",
   "metadata": {},
   "outputs": [
    {
     "data": {
      "text/plain": [
       "['THIS IS MY FIRST PYTHON PROGRAMMING CLASS ',\n",
       " ' I AM LEARNING PYTHON STRING ',\n",
       " ' ITS FUNCTION']"
      ]
     },
     "execution_count": 7,
     "metadata": {},
     "output_type": "execute_result"
    }
   ],
   "source": [
    "# 3. Try to Split a string after conversion of entire string in uppercase\n",
    "S.upper().split('AND')"
   ]
  },
  {
   "cell_type": "code",
   "execution_count": 8,
   "id": "0957cc4d",
   "metadata": {},
   "outputs": [
    {
     "data": {
      "text/plain": [
       "'this is my first python programming class and i am learning python string and its function'"
      ]
     },
     "execution_count": 8,
     "metadata": {},
     "output_type": "execute_result"
    }
   ],
   "source": [
    "# 4. Try to convert the whole string into lower case\n",
    "S.lower()"
   ]
  },
  {
   "cell_type": "code",
   "execution_count": 9,
   "id": "471296b7",
   "metadata": {},
   "outputs": [
    {
     "data": {
      "text/plain": [
       "'THIS IS MY FIRST PYTHON PROGRAMMING CLASS AND I AM LEARNING PYTHON STRING AND ITS FUNCTION'"
      ]
     },
     "execution_count": 9,
     "metadata": {},
     "output_type": "execute_result"
    }
   ],
   "source": [
    "#5. Try to Capitalize the whole string\n",
    "S.upper()"
   ]
  },
  {
   "cell_type": "code",
   "execution_count": 10,
   "id": "3afb64b8",
   "metadata": {},
   "outputs": [],
   "source": [
    "# 6. Write a difference between isalnum() and isalpha()\n",
    "# Ans :- isalnum() => Return True if the string is an alpha-numeric string, False otherwise.\n",
    "#        isalpha() => Return True if the string is an alphabetic string, False otherwise."
   ]
  },
  {
   "cell_type": "code",
   "execution_count": 12,
   "id": "65f52758",
   "metadata": {},
   "outputs": [
    {
     "data": {
      "text/plain": [
       "'My  name  is  Sandip  Nandi'"
      ]
     },
     "execution_count": 12,
     "metadata": {},
     "output_type": "execute_result"
    }
   ],
   "source": [
    "# 7. Give an example of expand tab\n",
    "str=\"My\\tname\\tis\\tSandip\\tNandi\"\n",
    "# Example 1 :- expandtabs() With no Argument.\n",
    "str.expandtabs()\n",
    "# Example 2 :- expandtabs() with argumants\n",
    "str.expandtabs(2)\n"
   ]
  },
  {
   "cell_type": "code",
   "execution_count": 15,
   "id": "3488acf3",
   "metadata": {},
   "outputs": [
    {
     "data": {
      "text/plain": [
       "' Sandip Nandi'"
      ]
     },
     "execution_count": 15,
     "metadata": {},
     "output_type": "execute_result"
    }
   ],
   "source": [
    "# 8. Give an Example of strip,lstrip and rstrip\n",
    "mystr=\" Sandip Nandi \"\n",
    "# strip() :-\n",
    "mystr.strip()\n",
    "# lstrip() :-\n",
    "mystr.lstrip()\n",
    "# rstrip() :- \n",
    "mystr.rstrip()"
   ]
  },
  {
   "cell_type": "code",
   "execution_count": 17,
   "id": "d8617ee3",
   "metadata": {},
   "outputs": [
    {
     "data": {
      "text/plain": [
       "'One-Neuron'"
      ]
     },
     "execution_count": 17,
     "metadata": {},
     "output_type": "execute_result"
    }
   ],
   "source": [
    "# 9. Replace a string character by another character by taking your own example\n",
    "text=\"I-Neuron\"\n",
    "text.replace('I','One')"
   ]
  },
  {
   "cell_type": "code",
   "execution_count": 22,
   "id": "dea66c62",
   "metadata": {},
   "outputs": [
    {
     "data": {
      "text/plain": [
       "'@@@@@@Ineuron is Awesome@@@@@@'"
      ]
     },
     "execution_count": 22,
     "metadata": {},
     "output_type": "execute_result"
    }
   ],
   "source": [
    "# 10. Try to give a defination of string center function with an example\n",
    "# The center() is an python inbuild methods and  it returns a new centered string after padding it with the specified character.\n",
    "text1=\"Ineuron is Awesome\"\n",
    "text1.center(30,'@')"
   ]
  },
  {
   "cell_type": "code",
   "execution_count": 23,
   "id": "4031e164",
   "metadata": {},
   "outputs": [],
   "source": [
    "#11. Write your own defination of compiler and interpreter without copy paste from internet in you.\n",
    "\n",
    "# Ans:->  1. Complier - Compiler is a computer software that translate a source code written in a high-level language into a set of\n",
    "# machine-language instructions that can be understood by a digital computer's CPU.\n",
    "\n",
    "# 2. Interpreter - While Interpreter is a computer software that translate just one statement of the entire program at a time into \n",
    "# machine code."
   ]
  },
  {
   "cell_type": "code",
   "execution_count": 24,
   "id": "32db75c1",
   "metadata": {},
   "outputs": [],
   "source": [
    "# 12. Python is an interpreted of compiled language give a clear answer with your understanding.\n",
    "# Ans:- Yes, Python is an interpreted of compiled language that keeps translating the program continously till the first error is confronted. \n",
    "# If any error is spotted, it stops working and hence debugging becomes easy.(eg. Jupyter Notebook)."
   ]
  },
  {
   "cell_type": "code",
   "execution_count": 26,
   "id": "95e8d87d",
   "metadata": {},
   "outputs": [],
   "source": [
    "# 13. Try to write a usecase of python with your understand.\n",
    "# Ans:- During Btech, i used python to develop a small Ml concept for Btech final year project ,There I have tried to implement Image recognizant\n",
    "# processing for some limited number of people with OpenCV.Although It was not fully developed but what i observed from there is -python offers concise code\n",
    "# While Complex Algorithms, workflows stand behind the ML and AI.Python's simplicity allows developers to write reliable systems.\n",
    "# As well as here we can extensively select huge number of libraries and frameworks which makes our life more easier to implement any concept.\n"
   ]
  }
 ],
 "metadata": {
  "kernelspec": {
   "display_name": "Python 3 (ipykernel)",
   "language": "python",
   "name": "python3"
  },
  "language_info": {
   "codemirror_mode": {
    "name": "ipython",
    "version": 3
   },
   "file_extension": ".py",
   "mimetype": "text/x-python",
   "name": "python",
   "nbconvert_exporter": "python",
   "pygments_lexer": "ipython3",
   "version": "3.9.7"
  }
 },
 "nbformat": 4,
 "nbformat_minor": 5
}
