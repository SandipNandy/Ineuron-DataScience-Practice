{
 "cells": [
  {
   "cell_type": "code",
   "execution_count": 1,
   "id": "f11ce7b5",
   "metadata": {},
   "outputs": [
    {
     "name": "stdout",
     "output_type": "stream",
     "text": [
      "1\n",
      "2\n",
      "3\n",
      "4\n",
      "5\n",
      "6\n",
      "7\n",
      "8\n",
      "9\n",
      "10\n"
     ]
    }
   ],
   "source": [
    "a=1\n",
    "b=10\n",
    "while a<=b:\n",
    "    print(a)\n",
    "    a=a+1\n",
    "    "
   ]
  },
  {
   "cell_type": "code",
   "execution_count": 2,
   "id": "8b03b206",
   "metadata": {},
   "outputs": [
    {
     "name": "stdout",
     "output_type": "stream",
     "text": [
      "print this esle block\n"
     ]
    }
   ],
   "source": [
    "while a<=b:\n",
    "    print(a)\n",
    "    a=a+1\n",
    "else:\n",
    "    print(\"print this esle block\")"
   ]
  },
  {
   "cell_type": "code",
   "execution_count": 3,
   "id": "9c968671",
   "metadata": {},
   "outputs": [
    {
     "name": "stdout",
     "output_type": "stream",
     "text": [
      "1\n",
      "2\n",
      "3\n",
      "4\n",
      "5\n",
      "6\n",
      "7\n",
      "8\n",
      "9\n",
      "10\n",
      "print this esle block\n"
     ]
    }
   ],
   "source": [
    "a=1\n",
    "b=10\n",
    "while a<=b:\n",
    "    print(a)\n",
    "    a=a+1\n",
    "else:\n",
    "    print(\"print this esle block\")"
   ]
  },
  {
   "cell_type": "code",
   "execution_count": 5,
   "id": "4b05c1cb",
   "metadata": {},
   "outputs": [
    {
     "name": "stdout",
     "output_type": "stream",
     "text": [
      "1\n",
      "2\n",
      "3\n",
      "4\n",
      "5\n"
     ]
    }
   ],
   "source": [
    "a=1\n",
    "b=10\n",
    "while a<=b:\n",
    "    print(a)\n",
    "    if a==5:\n",
    "        break\n",
    "    a=a+1\n",
    "else:\n",
    "    print(\"print this esle block\")"
   ]
  },
  {
   "cell_type": "code",
   "execution_count": 6,
   "id": "e99d7079",
   "metadata": {},
   "outputs": [
    {
     "name": "stdout",
     "output_type": "stream",
     "text": [
      "1\n",
      "2\n",
      "3\n",
      "4\n",
      "5\n",
      "6\n",
      "7\n",
      "8\n",
      "9\n",
      "10\n"
     ]
    }
   ],
   "source": [
    "a=1\n",
    "b=10\n",
    "while a<=b:\n",
    "    print(a)\n",
    "    if a==5:\n",
    "        pass\n",
    "    a=a+1"
   ]
  },
  {
   "cell_type": "code",
   "execution_count": 7,
   "id": "b2e748bc",
   "metadata": {},
   "outputs": [],
   "source": [
    "l=[2,5,7,9,68,87]"
   ]
  },
  {
   "cell_type": "code",
   "execution_count": 8,
   "id": "468ce320",
   "metadata": {},
   "outputs": [
    {
     "name": "stdout",
     "output_type": "stream",
     "text": [
      "2\n",
      "5\n",
      "7\n",
      "9\n",
      "68\n",
      "87\n"
     ]
    }
   ],
   "source": [
    "a=0\n",
    "while a<len(l):\n",
    "    print(l[a])\n",
    "    a=a+1\n",
    "    "
   ]
  },
  {
   "cell_type": "code",
   "execution_count": 1,
   "id": "ea6e4497",
   "metadata": {},
   "outputs": [],
   "source": [
    "t=(3,4,5,6,7,8,9)"
   ]
  },
  {
   "cell_type": "code",
   "execution_count": 6,
   "id": "a27f1be8",
   "metadata": {},
   "outputs": [
    {
     "name": "stdout",
     "output_type": "stream",
     "text": [
      "3\n",
      "4\n"
     ]
    }
   ],
   "source": [
    "t=(3,4,5,6,7,8,9)\n",
    "w=0\n",
    "while w<len(t):\n",
    "    if t[w]==6 or t[w]==7:\n",
    "        print(w)\n",
    "    w=w+1"
   ]
  },
  {
   "cell_type": "code",
   "execution_count": 22,
   "id": "4ff3221c",
   "metadata": {},
   "outputs": [
    {
     "name": "stdout",
     "output_type": "stream",
     "text": [
      "-1\n",
      "-3\n",
      "-4\n",
      "-7\n"
     ]
    }
   ],
   "source": [
    "t=(6,4,5,6,7,8,6)\n",
    "w=-1\n",
    "while w>=-len(t):\n",
    "    if t[w]==6 or t[w]==7:\n",
    "        print(w)\n",
    "    w=w-1"
   ]
  },
  {
   "cell_type": "code",
   "execution_count": 23,
   "id": "d0f3acba",
   "metadata": {},
   "outputs": [],
   "source": [
    "d={\"k1\":\"sandip\",\"k2\":(1,2,3,4),\"k3\":(2,3,4,5)}"
   ]
  },
  {
   "cell_type": "code",
   "execution_count": 25,
   "id": "6da9123b",
   "metadata": {},
   "outputs": [
    {
     "data": {
      "text/plain": [
       "dict_values(['sandip', (1, 2, 3, 4), (2, 3, 4, 5)])"
      ]
     },
     "execution_count": 25,
     "metadata": {},
     "output_type": "execute_result"
    }
   ],
   "source": [
    "d.values()"
   ]
  },
  {
   "cell_type": "code",
   "execution_count": 29,
   "id": "ea975020",
   "metadata": {},
   "outputs": [
    {
     "name": "stdout",
     "output_type": "stream",
     "text": [
      "sandip\n",
      "(1, 2, 3, 4)\n",
      "(2, 3, 4, 5)\n"
     ]
    }
   ],
   "source": [
    "w=0\n",
    "y=list(d.keys())\n",
    "while w<len(d):\n",
    "    print(d[y[w]])\n",
    "    w=w+1"
   ]
  },
  {
   "cell_type": "code",
   "execution_count": 32,
   "id": "54f0cfbc",
   "metadata": {},
   "outputs": [],
   "source": [
    "def test1(a,b):\n",
    "    while a<=b:\n",
    "#         print(a)\n",
    "        return a\n",
    "        a=a+1\n",
    "    else :\n",
    "        return 'My name is sandip'"
   ]
  },
  {
   "cell_type": "code",
   "execution_count": 33,
   "id": "c82c0dee",
   "metadata": {},
   "outputs": [
    {
     "data": {
      "text/plain": [
       "1"
      ]
     },
     "execution_count": 33,
     "metadata": {},
     "output_type": "execute_result"
    }
   ],
   "source": [
    "test1(1,10)"
   ]
  },
  {
   "cell_type": "code",
   "execution_count": 34,
   "id": "f205a349",
   "metadata": {},
   "outputs": [
    {
     "data": {
      "text/plain": [
       "int"
      ]
     },
     "execution_count": 34,
     "metadata": {},
     "output_type": "execute_result"
    }
   ],
   "source": [
    "type(test1(1,20))"
   ]
  },
  {
   "cell_type": "code",
   "execution_count": 35,
   "id": "3e78fa85",
   "metadata": {},
   "outputs": [],
   "source": [
    "l=[6,4,6,7,74,6,3,2,35,6,7,7,[3,4,5,6,7,7,8],'sudh']"
   ]
  },
  {
   "cell_type": "code",
   "execution_count": null,
   "id": "7f0bb00a",
   "metadata": {},
   "outputs": [],
   "source": []
  }
 ],
 "metadata": {
  "kernelspec": {
   "display_name": "Python 3 (ipykernel)",
   "language": "python",
   "name": "python3"
  },
  "language_info": {
   "codemirror_mode": {
    "name": "ipython",
    "version": 3
   },
   "file_extension": ".py",
   "mimetype": "text/x-python",
   "name": "python",
   "nbconvert_exporter": "python",
   "pygments_lexer": "ipython3",
   "version": "3.9.7"
  }
 },
 "nbformat": 4,
 "nbformat_minor": 5
}
