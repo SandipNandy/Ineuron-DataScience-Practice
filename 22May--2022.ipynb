{
 "cells": [
  {
   "cell_type": "code",
   "execution_count": 1,
   "id": "acd1d4ee",
   "metadata": {},
   "outputs": [
    {
     "name": "stdout",
     "output_type": "stream",
     "text": [
      "DY\n"
     ]
    }
   ],
   "source": [
    "a=10\n",
    "if a==12:\n",
    "    print('hi');\n",
    "elif a==10:\n",
    "    print(\"DY\");\n",
    "else:\n",
    "    print('u');"
   ]
  },
  {
   "cell_type": "code",
   "execution_count": 7,
   "id": "e0dc8280",
   "metadata": {},
   "outputs": [
    {
     "name": "stdout",
     "output_type": "stream",
     "text": [
      "san\n"
     ]
    }
   ],
   "source": [
    "price=500\n",
    "if price>500:\n",
    "    print('i wont be able to Buy a jacket');\n",
    "elif price< 500:\n",
    "    print('i will be able to buy a jacket');\n",
    "else :\n",
    "    print(\"san\");"
   ]
  },
  {
   "cell_type": "code",
   "execution_count": 8,
   "id": "1af5ee99",
   "metadata": {},
   "outputs": [],
   "source": [
    "l=[1,2,3,4,5,5,6,7,8040,5758,90,253,575,87]"
   ]
  },
  {
   "cell_type": "code",
   "execution_count": 9,
   "id": "6c5de429",
   "metadata": {},
   "outputs": [
    {
     "name": "stdout",
     "output_type": "stream",
     "text": [
      "a\n"
     ]
    }
   ],
   "source": [
    "if 1 in l:\n",
    "    print('a');\n",
    "elif 2 in l:\n",
    "    print('b');\n",
    "elif 3 in l:\n",
    "    print('c');"
   ]
  },
  {
   "cell_type": "code",
   "execution_count": 10,
   "id": "8562564d",
   "metadata": {},
   "outputs": [
    {
     "name": "stdout",
     "output_type": "stream",
     "text": [
      "500\n"
     ]
    }
   ],
   "source": [
    "b=input()"
   ]
  },
  {
   "cell_type": "code",
   "execution_count": 11,
   "id": "2de21353",
   "metadata": {},
   "outputs": [
    {
     "data": {
      "text/plain": [
       "'500'"
      ]
     },
     "execution_count": 11,
     "metadata": {},
     "output_type": "execute_result"
    }
   ],
   "source": [
    "b\n"
   ]
  },
  {
   "cell_type": "code",
   "execution_count": 18,
   "id": "4205541b",
   "metadata": {},
   "outputs": [
    {
     "name": "stdout",
     "output_type": "stream",
     "text": [
      "300\n",
      "NOGRE\n",
      "TOFEL\n",
      "No Qualification\n"
     ]
    }
   ],
   "source": [
    "Marks=int(input())\n",
    "if Marks>600:\n",
    "    print('GRE');\n",
    "elif Marks<600:\n",
    "    print(\"NOGRE\");\n",
    "    if Marks<500:\n",
    "        print('TOFEL');\n",
    "    if Marks<400:\n",
    "        print('No Qualification');\n",
    "        "
   ]
  },
  {
   "cell_type": "code",
   "execution_count": 19,
   "id": "e7cadc4b",
   "metadata": {},
   "outputs": [
    {
     "name": "stdout",
     "output_type": "stream",
     "text": [
      "Enter a floating point number45.677\n",
      "Enter value is Positive number\n"
     ]
    }
   ],
   "source": [
    "val=float(input(\"Enter a floating point number\"))\n",
    "if val>=0:\n",
    "    if val ==0:\n",
    "        print(\"Enter value is Zero\");\n",
    "    else :\n",
    "        print(\"Enter value is Positive number\");\n",
    "else :\n",
    "    print(\"Enter number is a negative number\");"
   ]
  },
  {
   "cell_type": "code",
   "execution_count": 22,
   "id": "511974f9",
   "metadata": {},
   "outputs": [
    {
     "name": "stdout",
     "output_type": "stream",
     "text": [
      "Try to do something\n"
     ]
    }
   ],
   "source": [
    "a=10\n",
    "if a<=10 or a==10 :\n",
    "    print(\"Try to do something\");\n",
    "\n",
    "\n"
   ]
  },
  {
   "cell_type": "code",
   "execution_count": 26,
   "id": "8e1424a7",
   "metadata": {},
   "outputs": [],
   "source": [
    "a=10\n",
    "if a<=10 and a==10 :\n",
    "    print(\"Try to do something\");"
   ]
  },
  {
   "cell_type": "code",
   "execution_count": null,
   "id": "37d707a7",
   "metadata": {},
   "outputs": [],
   "source": [
    "a=10\n",
    "if a<10 and a>10 :\n",
    "    print(\"Try to do something\");"
   ]
  },
  {
   "cell_type": "code",
   "execution_count": 27,
   "id": "dba177d5",
   "metadata": {},
   "outputs": [
    {
     "name": "stdout",
     "output_type": "stream",
     "text": [
      "Try to do something\n"
     ]
    }
   ],
   "source": [
    "a=10\n",
    "if a<=10 and a==10 :\n",
    "    print(\"Try to do something\");"
   ]
  },
  {
   "cell_type": "code",
   "execution_count": 28,
   "id": "0b1f5522",
   "metadata": {},
   "outputs": [],
   "source": [
    "a='sandip'\n",
    "if a=='sandip' and a=='Sandip':\n",
    "    print(\"PRINT SOMETHING\");"
   ]
  },
  {
   "cell_type": "code",
   "execution_count": 29,
   "id": "a493b8c7",
   "metadata": {},
   "outputs": [
    {
     "name": "stdout",
     "output_type": "stream",
     "text": [
      "HI I AM SANDIP\n"
     ]
    }
   ],
   "source": [
    "a='sandip'\n",
    "if a=='sandip' or a=='Sandip':\n",
    "    print(\"HI!! I AM SANDIP\");"
   ]
  },
  {
   "cell_type": "code",
   "execution_count": 30,
   "id": "19911b4b",
   "metadata": {},
   "outputs": [],
   "source": [
    "dict={\"Key1\" :\"value\",\"Key2\":\"Sudh\",\"Key3\":\"Ineuron\"}"
   ]
  },
  {
   "cell_type": "code",
   "execution_count": 35,
   "id": "a7293a3b",
   "metadata": {},
   "outputs": [
    {
     "name": "stdout",
     "output_type": "stream",
     "text": [
      "All the values are verified\n",
      "dict_values(['value', 'Sudh', 'Ineuron'])\n"
     ]
    }
   ],
   "source": [
    "if dict['Key1']=='value' and dict['Key2']=='Sudh' and dict['Key3']=='Ineuron':\n",
    "    print('All the values are verified');\n",
    "    print(dict.values());\n",
    "else:\n",
    "    print(\"All the values are not verified\");"
   ]
  },
  {
   "cell_type": "code",
   "execution_count": 36,
   "id": "26149f22",
   "metadata": {},
   "outputs": [],
   "source": [
    "l=[1,2,3,4,'sandip',234.5]"
   ]
  },
  {
   "cell_type": "code",
   "execution_count": 37,
   "id": "27f481fc",
   "metadata": {},
   "outputs": [
    {
     "name": "stdout",
     "output_type": "stream",
     "text": [
      "1\n",
      "2\n",
      "3\n",
      "4\n",
      "sandip\n",
      "234.5\n"
     ]
    }
   ],
   "source": [
    "for i in l:\n",
    "    print(i)"
   ]
  },
  {
   "cell_type": "code",
   "execution_count": 38,
   "id": "ea3c8d79",
   "metadata": {},
   "outputs": [
    {
     "name": "stdout",
     "output_type": "stream",
     "text": [
      "2\n",
      "3\n",
      "4\n",
      "5\n"
     ]
    },
    {
     "ename": "TypeError",
     "evalue": "can only concatenate str (not \"int\") to str",
     "output_type": "error",
     "traceback": [
      "\u001b[1;31m---------------------------------------------------------------------------\u001b[0m",
      "\u001b[1;31mTypeError\u001b[0m                                 Traceback (most recent call last)",
      "\u001b[1;32mC:\\Users\\0038IG~1\\AppData\\Local\\Temp/ipykernel_6672/949430040.py\u001b[0m in \u001b[0;36m<module>\u001b[1;34m\u001b[0m\n\u001b[0;32m      1\u001b[0m \u001b[1;32mfor\u001b[0m \u001b[0mi\u001b[0m \u001b[1;32min\u001b[0m \u001b[0ml\u001b[0m\u001b[1;33m:\u001b[0m\u001b[1;33m\u001b[0m\u001b[1;33m\u001b[0m\u001b[0m\n\u001b[1;32m----> 2\u001b[1;33m     \u001b[0mprint\u001b[0m\u001b[1;33m(\u001b[0m\u001b[0mi\u001b[0m\u001b[1;33m+\u001b[0m\u001b[1;36m1\u001b[0m\u001b[1;33m)\u001b[0m\u001b[1;33m\u001b[0m\u001b[1;33m\u001b[0m\u001b[0m\n\u001b[0m",
      "\u001b[1;31mTypeError\u001b[0m: can only concatenate str (not \"int\") to str"
     ]
    }
   ],
   "source": [
    "for i in l:\n",
    "    print(i+1)"
   ]
  },
  {
   "cell_type": "code",
   "execution_count": 41,
   "id": "a29838da",
   "metadata": {},
   "outputs": [
    {
     "name": "stdout",
     "output_type": "stream",
     "text": [
      "2\n",
      "3\n",
      "4\n",
      "5\n",
      "sandip1\n",
      "235.5\n"
     ]
    }
   ],
   "source": [
    "for i in l:\n",
    "    if type(i) ==int or type(i)==float:\n",
    "        print(i+1)\n",
    "    elif type(i)==str:\n",
    "        print(i+str(1));"
   ]
  },
  {
   "cell_type": "code",
   "execution_count": null,
   "id": "e510ffdc",
   "metadata": {},
   "outputs": [],
   "source": []
  }
 ],
 "metadata": {
  "kernelspec": {
   "display_name": "Python 3 (ipykernel)",
   "language": "python",
   "name": "python3"
  },
  "language_info": {
   "codemirror_mode": {
    "name": "ipython",
    "version": 3
   },
   "file_extension": ".py",
   "mimetype": "text/x-python",
   "name": "python",
   "nbconvert_exporter": "python",
   "pygments_lexer": "ipython3",
   "version": "3.9.7"
  }
 },
 "nbformat": 4,
 "nbformat_minor": 5
}
