{
 "cells": [
  {
   "cell_type": "code",
   "execution_count": 2,
   "id": "28fa1316",
   "metadata": {},
   "outputs": [],
   "source": [
    "# function which can take n number of arguments\n",
    "def test(*a):\n",
    "    return a"
   ]
  },
  {
   "cell_type": "code",
   "execution_count": 3,
   "id": "0e5579b7",
   "metadata": {},
   "outputs": [
    {
     "data": {
      "text/plain": [
       "(34, 78)"
      ]
     },
     "execution_count": 3,
     "metadata": {},
     "output_type": "execute_result"
    }
   ],
   "source": [
    "test(34,78)"
   ]
  },
  {
   "cell_type": "code",
   "execution_count": 4,
   "id": "1c728bf8",
   "metadata": {},
   "outputs": [
    {
     "data": {
      "text/plain": [
       "(2, 3, 4, 5)"
      ]
     },
     "execution_count": 4,
     "metadata": {},
     "output_type": "execute_result"
    }
   ],
   "source": [
    "test(2,3,4,5)"
   ]
  },
  {
   "cell_type": "code",
   "execution_count": 6,
   "id": "648aea9b",
   "metadata": {},
   "outputs": [],
   "source": [
    "def test5(*a):\n",
    "    l=[]\n",
    "    for i in a:\n",
    "        l.append(i)\n",
    "    return l\n",
    "    "
   ]
  },
  {
   "cell_type": "code",
   "execution_count": 7,
   "id": "992065d4",
   "metadata": {},
   "outputs": [
    {
     "data": {
      "text/plain": [
       "[2, 3, 4, 5, [6, 78, 10, 7, 90]]"
      ]
     },
     "execution_count": 7,
     "metadata": {},
     "output_type": "execute_result"
    }
   ],
   "source": [
    "test5(2,3,4,5,[6,78,10,7,90])"
   ]
  },
  {
   "cell_type": "code",
   "execution_count": 8,
   "id": "4bf2a23e",
   "metadata": {},
   "outputs": [
    {
     "data": {
      "text/plain": [
       "[7, ['str', 'you', 8, 0, -1], 57, 799]"
      ]
     },
     "execution_count": 8,
     "metadata": {},
     "output_type": "execute_result"
    }
   ],
   "source": [
    "test5(7,['str','you',8,0,-1],57,799)"
   ]
  },
  {
   "cell_type": "code",
   "execution_count": 9,
   "id": "ec59b94e",
   "metadata": {},
   "outputs": [],
   "source": [
    "def test6(a,b,c,d,*m):\n",
    "    return a,b,c,d,m"
   ]
  },
  {
   "cell_type": "code",
   "execution_count": 10,
   "id": "047f4267",
   "metadata": {},
   "outputs": [
    {
     "data": {
      "text/plain": [
       "(2, 3, 4, 5, (5, 6, 6, 7, 7, 8, 8))"
      ]
     },
     "execution_count": 10,
     "metadata": {},
     "output_type": "execute_result"
    }
   ],
   "source": [
    "test6(2,3,4,5,5,6,6,7,7,8,8)"
   ]
  },
  {
   "cell_type": "code",
   "execution_count": 16,
   "id": "64479591",
   "metadata": {},
   "outputs": [],
   "source": [
    "def test7(*m,a,b,c,d,e):\n",
    "    return m,a,b,c,d,e"
   ]
  },
  {
   "cell_type": "code",
   "execution_count": 17,
   "id": "d32c66d6",
   "metadata": {},
   "outputs": [
    {
     "data": {
      "text/plain": [
       "((2, 3, 5, 5, 6, 7, 7, 89, 35), 3847, 242, 7, 9, 9)"
      ]
     },
     "execution_count": 17,
     "metadata": {},
     "output_type": "execute_result"
    }
   ],
   "source": [
    "test7(2,3,5,5,6,7,7,89,35,a=3847,b=242,c=7,d=9,e=9)"
   ]
  },
  {
   "cell_type": "code",
   "execution_count": 18,
   "id": "0154d9a9",
   "metadata": {},
   "outputs": [],
   "source": [
    "def test8(**sand):\n",
    "    return sand"
   ]
  },
  {
   "cell_type": "code",
   "execution_count": 19,
   "id": "2e39eddd",
   "metadata": {},
   "outputs": [
    {
     "data": {
      "text/plain": [
       "{'b': 4, 'c': 5, 'd': 7, 'e': 8}"
      ]
     },
     "execution_count": 19,
     "metadata": {},
     "output_type": "execute_result"
    }
   ],
   "source": [
    "test8(b=4,c=5,d=7,e=8)"
   ]
  },
  {
   "cell_type": "code",
   "execution_count": 20,
   "id": "3bdea37f",
   "metadata": {},
   "outputs": [
    {
     "data": {
      "text/plain": [
       "{'a': 5, 'b': 7, 'c': 9, 'd': 'def', 'u': [34, 5, 78, 98, 'definitation']}"
      ]
     },
     "execution_count": 20,
     "metadata": {},
     "output_type": "execute_result"
    }
   ],
   "source": [
    "test8(a=5,b=7,c=9,d='def',u=[34,5,78,98,'definitation'])"
   ]
  },
  {
   "cell_type": "code",
   "execution_count": 22,
   "id": "55e68e90",
   "metadata": {},
   "outputs": [],
   "source": [
    "def test9(*m, **s):\n",
    "    return m,s"
   ]
  },
  {
   "cell_type": "code",
   "execution_count": 23,
   "id": "346008ef",
   "metadata": {},
   "outputs": [
    {
     "data": {
      "text/plain": [
       "((345, 6, 7, 8, 9), {'g': 4, 'h': 9, 'i': 6, 'j': 7})"
      ]
     },
     "execution_count": 23,
     "metadata": {},
     "output_type": "execute_result"
    }
   ],
   "source": [
    "test9(345,6,7,8,9,g=4,h=9,i=6,j=7)"
   ]
  },
  {
   "cell_type": "code",
   "execution_count": 31,
   "id": "4406edd5",
   "metadata": {},
   "outputs": [],
   "source": [
    "def test10(*m):\n",
    "    n=1\n",
    "    for i in m:\n",
    "        if type(i)==int:\n",
    "            n=n*i\n",
    "    return n"
   ]
  },
  {
   "cell_type": "code",
   "execution_count": 32,
   "id": "ba58a0ae",
   "metadata": {},
   "outputs": [
    {
     "data": {
      "text/plain": [
       "38288250000000000"
      ]
     },
     "execution_count": 32,
     "metadata": {},
     "output_type": "execute_result"
    }
   ],
   "source": [
    "test10(5,10,20,30,50,70,110,130,150,170)"
   ]
  },
  {
   "cell_type": "code",
   "execution_count": 33,
   "id": "355a2682",
   "metadata": {},
   "outputs": [],
   "source": [
    "def test11(*m):\n",
    "    n=0\n",
    "    for i in m:\n",
    "        if type(i)==int:\n",
    "            n=n+i\n",
    "    return n"
   ]
  },
  {
   "cell_type": "code",
   "execution_count": 34,
   "id": "36db9dc9",
   "metadata": {},
   "outputs": [
    {
     "data": {
      "text/plain": [
       "654"
      ]
     },
     "execution_count": 34,
     "metadata": {},
     "output_type": "execute_result"
    }
   ],
   "source": [
    "test11(5,67,89,90,32,45,68,90,91,32,45)"
   ]
  },
  {
   "cell_type": "code",
   "execution_count": 35,
   "id": "a8eaa175",
   "metadata": {},
   "outputs": [
    {
     "ename": "SyntaxError",
     "evalue": "invalid syntax (Temp/ipykernel_15696/1219372510.py, line 1)",
     "output_type": "error",
     "traceback": [
      "\u001b[1;36m  File \u001b[1;32m\"C:\\Users\\0038IG~1\\AppData\\Local\\Temp/ipykernel_15696/1219372510.py\"\u001b[1;36m, line \u001b[1;32m1\u001b[0m\n\u001b[1;33m    n= lambda a:\u001b[0m\n\u001b[1;37m                ^\u001b[0m\n\u001b[1;31mSyntaxError\u001b[0m\u001b[1;31m:\u001b[0m invalid syntax\n"
     ]
    }
   ],
   "source": [
    "n= lambda a:"
   ]
  },
  {
   "cell_type": "code",
   "execution_count": 36,
   "id": "c9b82b1c",
   "metadata": {},
   "outputs": [],
   "source": [
    "b=lambda *sand :sand"
   ]
  },
  {
   "cell_type": "code",
   "execution_count": 37,
   "id": "d26e343a",
   "metadata": {},
   "outputs": [
    {
     "data": {
      "text/plain": [
       "(4, 6, 7, 8, 9, 10, 11)"
      ]
     },
     "execution_count": 37,
     "metadata": {},
     "output_type": "execute_result"
    }
   ],
   "source": [
    "b(4,6,7,8,9,10,11)"
   ]
  },
  {
   "cell_type": "code",
   "execution_count": 40,
   "id": "7ed920e5",
   "metadata": {},
   "outputs": [],
   "source": [
    "s=\"sandip\""
   ]
  },
  {
   "cell_type": "code",
   "execution_count": 41,
   "id": "ded8ed56",
   "metadata": {},
   "outputs": [
    {
     "data": {
      "text/plain": [
       "['s', 'a', 'n', 'd', 'i', 'p']"
      ]
     },
     "execution_count": 41,
     "metadata": {},
     "output_type": "execute_result"
    }
   ],
   "source": [
    "[i for i in s]"
   ]
  },
  {
   "cell_type": "code",
   "execution_count": 42,
   "id": "d82fff9e",
   "metadata": {},
   "outputs": [
    {
     "data": {
      "text/plain": [
       "[0, 1, 4, 9, 16, 25, 36, 49, 64, 81]"
      ]
     },
     "execution_count": 42,
     "metadata": {},
     "output_type": "execute_result"
    }
   ],
   "source": [
    "[i*i for i in range(10)]"
   ]
  },
  {
   "cell_type": "code",
   "execution_count": 43,
   "id": "e0bd5eb9",
   "metadata": {},
   "outputs": [],
   "source": [
    "l=[]\n",
    "for i in range(10):\n",
    "    l.append(i*i)"
   ]
  },
  {
   "cell_type": "code",
   "execution_count": 44,
   "id": "7c6e3b4b",
   "metadata": {},
   "outputs": [
    {
     "data": {
      "text/plain": [
       "[0, 1, 4, 9, 16, 25, 36, 49, 64, 81]"
      ]
     },
     "execution_count": 44,
     "metadata": {},
     "output_type": "execute_result"
    }
   ],
   "source": [
    "l"
   ]
  },
  {
   "cell_type": "code",
   "execution_count": 45,
   "id": "05da1e35",
   "metadata": {},
   "outputs": [],
   "source": [
    "l=lambda *x:[i**2 for i in x]"
   ]
  },
  {
   "cell_type": "code",
   "execution_count": 46,
   "id": "8a2d3ae9",
   "metadata": {},
   "outputs": [
    {
     "data": {
      "text/plain": [
       "[16, 2025, 25, 36, 49, 64, 81, 100]"
      ]
     },
     "execution_count": 46,
     "metadata": {},
     "output_type": "execute_result"
    }
   ],
   "source": [
    "l(4,45,5,6,7,8,9,10)"
   ]
  },
  {
   "cell_type": "code",
   "execution_count": null,
   "id": "35acb845",
   "metadata": {},
   "outputs": [],
   "source": [
    "test13(a=345,b='sand',c=567,l=[2,34,45,'sa'])"
   ]
  },
  {
   "cell_type": "code",
   "execution_count": 47,
   "id": "483fdc6e",
   "metadata": {},
   "outputs": [],
   "source": [
    "# For double staric(**) it will take tuple as dictonary.\n",
    "# for single static(*) it will take tuple as input\n",
    "def test13(**kargs):\n",
    "    count=0\n",
    "    print(kargs)\n",
    "    print(kargs.values())\n",
    "    for v in kargs.values():\n",
    "        if type(v)==str or type(v)==list:\n",
    "            count+=1\n",
    "    return count"
   ]
  },
  {
   "cell_type": "code",
   "execution_count": 48,
   "id": "0dc0ea2e",
   "metadata": {},
   "outputs": [
    {
     "name": "stdout",
     "output_type": "stream",
     "text": [
      "{'a': 345, 'b': 'sand', 'c': 567, 'l': [2, 34, 45, 'sa']}\n",
      "dict_values([345, 'sand', 567, [2, 34, 45, 'sa']])\n"
     ]
    },
    {
     "data": {
      "text/plain": [
       "2"
      ]
     },
     "execution_count": 48,
     "metadata": {},
     "output_type": "execute_result"
    }
   ],
   "source": [
    "test13(a=345,b='sand',c=567,l=[2,34,45,'sa'])"
   ]
  },
  {
   "cell_type": "code",
   "execution_count": null,
   "id": "05a258cc",
   "metadata": {},
   "outputs": [],
   "source": []
  }
 ],
 "metadata": {
  "kernelspec": {
   "display_name": "Python 3 (ipykernel)",
   "language": "python",
   "name": "python3"
  },
  "language_info": {
   "codemirror_mode": {
    "name": "ipython",
    "version": 3
   },
   "file_extension": ".py",
   "mimetype": "text/x-python",
   "name": "python",
   "nbconvert_exporter": "python",
   "pygments_lexer": "ipython3",
   "version": "3.9.7"
  }
 },
 "nbformat": 4,
 "nbformat_minor": 5
}
