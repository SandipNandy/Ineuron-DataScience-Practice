{
 "cells": [
  {
   "cell_type": "code",
   "execution_count": 1,
   "id": "d935216f",
   "metadata": {},
   "outputs": [],
   "source": [
    "d={'key':\"sudh\",'contact':\"sudhan@ineuron.ai\",'position':\"abc\"}"
   ]
  },
  {
   "cell_type": "code",
   "execution_count": 2,
   "id": "60a3ac81",
   "metadata": {},
   "outputs": [
    {
     "data": {
      "text/plain": [
       "dict"
      ]
     },
     "execution_count": 2,
     "metadata": {},
     "output_type": "execute_result"
    }
   ],
   "source": [
    "type(d)"
   ]
  },
  {
   "cell_type": "code",
   "execution_count": 3,
   "id": "d758c2d9",
   "metadata": {},
   "outputs": [
    {
     "name": "stdout",
     "output_type": "stream",
     "text": [
      "key : sudh\n",
      "contact : sudhan@ineuron.ai\n",
      "position : abc\n"
     ]
    }
   ],
   "source": [
    "for i in d :\n",
    "    print(i ,\":\",d[i])"
   ]
  },
  {
   "cell_type": "code",
   "execution_count": null,
   "id": "57bd1e89",
   "metadata": {},
   "outputs": [],
   "source": [
    "l=[0,1,2,3,4,5,6,7,8,9]"
   ]
  },
  {
   "cell_type": "code",
   "execution_count": 5,
   "id": "09609fd4",
   "metadata": {},
   "outputs": [
    {
     "data": {
      "text/plain": [
       "[0, 1, 2, 3, 4, 5, 6, 7, 8]"
      ]
     },
     "execution_count": 5,
     "metadata": {},
     "output_type": "execute_result"
    }
   ],
   "source": [
    "list(range(0,9))"
   ]
  },
  {
   "cell_type": "code",
   "execution_count": 7,
   "id": "12535eb4",
   "metadata": {},
   "outputs": [
    {
     "data": {
      "text/plain": [
       "[0, 2, 4, 6, 8]"
      ]
     },
     "execution_count": 7,
     "metadata": {},
     "output_type": "execute_result"
    }
   ],
   "source": [
    "list(range(0,9,2))"
   ]
  },
  {
   "cell_type": "code",
   "execution_count": 8,
   "id": "30c9718d",
   "metadata": {},
   "outputs": [
    {
     "data": {
      "text/plain": [
       "[]"
      ]
     },
     "execution_count": 8,
     "metadata": {},
     "output_type": "execute_result"
    }
   ],
   "source": [
    "list(range(0,9,-1))"
   ]
  },
  {
   "cell_type": "code",
   "execution_count": 9,
   "id": "b1196fb9",
   "metadata": {},
   "outputs": [
    {
     "data": {
      "text/plain": [
       "[9, 8, 7, 6, 5, 4, 3, 2, 1]"
      ]
     },
     "execution_count": 9,
     "metadata": {},
     "output_type": "execute_result"
    }
   ],
   "source": [
    "list(range(9,0,-1))"
   ]
  },
  {
   "cell_type": "code",
   "execution_count": 11,
   "id": "d6b4ce4d",
   "metadata": {},
   "outputs": [
    {
     "name": "stdout",
     "output_type": "stream",
     "text": [
      "sandip \n",
      "\n",
      "sandip sandip \n",
      "\n",
      "sandip sandip sandip \n",
      "\n",
      "sandip sandip sandip sandip \n",
      "\n"
     ]
    }
   ],
   "source": [
    "n=4\n",
    "for i in range(4):\n",
    "    for j in range(0,i+1):\n",
    "        print(\"sandip\",end=\" \")\n",
    "    print(\"\\n\")"
   ]
  },
  {
   "cell_type": "code",
   "execution_count": 19,
   "id": "38401583",
   "metadata": {},
   "outputs": [
    {
     "name": "stdout",
     "output_type": "stream",
     "text": [
      "        sand  \n",
      "\n",
      "      sand  \n",
      "\n",
      "sand  \n",
      "\n",
      "    sand  \n",
      "\n",
      "sand  \n",
      "\n",
      "sand  \n",
      "\n",
      "  sand  \n",
      "\n",
      "sand  \n",
      "\n",
      "sand  \n",
      "\n",
      "sand  \n",
      "\n",
      "sand  \n",
      "\n",
      "sand  \n",
      "\n",
      "sand  \n",
      "\n",
      "sand  \n",
      "\n",
      "sand  \n",
      "\n"
     ]
    }
   ],
   "source": [
    "l=5\n",
    "k=2*l-2\n",
    "for i in range(0,l):\n",
    "    for j in range(0,k):\n",
    "        print(end=\" \")\n",
    "    k=k-2\n",
    "    for j in range(0,i+1):\n",
    "        print('sand ', end=\" \")\n",
    "        print(\"\\n\")"
   ]
  },
  {
   "cell_type": "code",
   "execution_count": 13,
   "id": "18f5702d",
   "metadata": {},
   "outputs": [
    {
     "name": "stdout",
     "output_type": "stream",
     "text": [
      "Enter the number of rows:4\n",
      "      * \n",
      "    * * \n",
      "  * * * \n",
      "* * * * \n"
     ]
    }
   ],
   "source": [
    "# This is the example of print simple reversed right angle pyramid pattern  \n",
    "rows = int(input(\"Enter the number of rows:\"))  \n",
    "k = 2 * rows - 2  # It is used for number of spaces  \n",
    "for i in range(0, rows):  \n",
    "    for j in range(0, k):  \n",
    "        print(end=\" \")  \n",
    "    k = k - 2   # decrement k value after each iteration  \n",
    "    for j in range(0, i + 1):  \n",
    "        print(\"* \", end=\"\")  # printing star  \n",
    "    print(\"\") "
   ]
  },
  {
   "cell_type": "code",
   "execution_count": 18,
   "id": "d306253e",
   "metadata": {},
   "outputs": [
    {
     "name": "stdout",
     "output_type": "stream",
     "text": [
      "    s \n",
      "  s s s \n",
      "s s s s s \n"
     ]
    }
   ],
   "source": [
    "rows = 3\n",
    "\n",
    "k = 0\n",
    "\n",
    "for i in range(1, rows+1):\n",
    "    for space in range(1, (rows-i)+1):\n",
    "        print(end=\"  \")\n",
    "   \n",
    "    while k!=(2*i-1):\n",
    "        print(\"s \", end=\"\")\n",
    "        k += 1\n",
    "   \n",
    "    k = 0\n",
    "    print()"
   ]
  },
  {
   "cell_type": "code",
   "execution_count": 22,
   "id": "27a6851a",
   "metadata": {},
   "outputs": [
    {
     "name": "stdout",
     "output_type": "stream",
     "text": [
      "0 3\n",
      "1 23\n",
      "2 45\n",
      "3 67\n",
      "4 2\n",
      "5 4\n",
      "6 5\n",
      "7 6\n"
     ]
    }
   ],
   "source": [
    "t=(3,23,45,67,2,4,5,6)\n",
    "for i in range(len(t)):\n",
    "    print(i,t[i])"
   ]
  },
  {
   "cell_type": "code",
   "execution_count": 24,
   "id": "121f1ae1",
   "metadata": {},
   "outputs": [
    {
     "name": "stdout",
     "output_type": "stream",
     "text": [
      "0 i\n",
      "1 n\n",
      "2 e\n",
      "3 u\n",
      "4 r\n",
      "5 o\n",
      "6 n\n"
     ]
    }
   ],
   "source": [
    "s=\"ineuron\"\n",
    "range(len(s))\n",
    "for i in range(len(s)):\n",
    "    print(i,s[i]);"
   ]
  },
  {
   "cell_type": "code",
   "execution_count": 25,
   "id": "390c00c1",
   "metadata": {},
   "outputs": [
    {
     "name": "stdout",
     "output_type": "stream",
     "text": [
      "6 n\n",
      "5 o\n",
      "4 r\n",
      "3 u\n",
      "2 e\n",
      "1 n\n",
      "0 i\n"
     ]
    }
   ],
   "source": [
    "s=\"ineuron\"\n",
    "for i in range(len(s)-1,-1,-1):\n",
    "    print(i,s[i]);"
   ]
  },
  {
   "cell_type": "code",
   "execution_count": 26,
   "id": "5722fc25",
   "metadata": {},
   "outputs": [
    {
     "data": {
      "text/plain": [
       "{'key': 'sudh', 'contact': 'sudhan@ineuron.ai', 'position': 'abc'}"
      ]
     },
     "execution_count": 26,
     "metadata": {},
     "output_type": "execute_result"
    }
   ],
   "source": [
    "d"
   ]
  },
  {
   "cell_type": "code",
   "execution_count": 27,
   "id": "fc0b8bc4",
   "metadata": {},
   "outputs": [
    {
     "data": {
      "text/plain": [
       "dict_items([('key', 'sudh'), ('contact', 'sudhan@ineuron.ai'), ('position', 'abc')])"
      ]
     },
     "execution_count": 27,
     "metadata": {},
     "output_type": "execute_result"
    }
   ],
   "source": [
    "d.items()"
   ]
  },
  {
   "cell_type": "code",
   "execution_count": 28,
   "id": "7a9742bf",
   "metadata": {},
   "outputs": [
    {
     "name": "stdout",
     "output_type": "stream",
     "text": [
      "('key', 'sudh') <class 'tuple'>\n",
      "('contact', 'sudhan@ineuron.ai') <class 'tuple'>\n",
      "('position', 'abc') <class 'tuple'>\n"
     ]
    }
   ],
   "source": [
    "for i in d.items():\n",
    "    print(i,type(i))"
   ]
  },
  {
   "cell_type": "code",
   "execution_count": 30,
   "id": "8c5617d2",
   "metadata": {},
   "outputs": [],
   "source": [
    "l=['sand','nandi',45635,6785,9865,'sudhan@ineruron.ai',2345.678]\n",
    "l1=[]\n",
    "for i in l:\n",
    "    if type(i)==int :\n",
    "        l1.append(i)"
   ]
  },
  {
   "cell_type": "code",
   "execution_count": 31,
   "id": "66a70bb8",
   "metadata": {},
   "outputs": [
    {
     "data": {
      "text/plain": [
       "[45635, 6785, 9865]"
      ]
     },
     "execution_count": 31,
     "metadata": {},
     "output_type": "execute_result"
    }
   ],
   "source": [
    "l1"
   ]
  },
  {
   "cell_type": "code",
   "execution_count": 32,
   "id": "b97ebae0",
   "metadata": {},
   "outputs": [],
   "source": [
    "f={1:34567,\"name\":\"sudh\",\"email_id\":\"sudhanshu@ineruron.ai\",234:\"sdjdfkf\",\"43\":\"sfhfjkf\",234:\"3454\"}"
   ]
  },
  {
   "cell_type": "code",
   "execution_count": 38,
   "id": "b9a107a7",
   "metadata": {},
   "outputs": [
    {
     "name": "stdout",
     "output_type": "stream",
     "text": [
      "1 : 34567\n",
      "234 : 3454\n"
     ]
    }
   ],
   "source": [
    "f={1:34567,\"name\":\"sudh\",\"email_id\":\"sudhanshu@ineruron.ai\",234:\"sdjdfkf\",\"43\":\"sfhfjkf\",234:\"3454\"}\n",
    "for i in f:\n",
    "    if type(i) == int:\n",
    "        print(i,\":\",f[i])"
   ]
  },
  {
   "cell_type": "code",
   "execution_count": 46,
   "id": "022d6c6d",
   "metadata": {},
   "outputs": [
    {
     "name": "stdout",
     "output_type": "stream",
     "text": [
      "B count :  3\n",
      "A count :  4\n",
      "D count :  2\n",
      "C count :  4\n"
     ]
    }
   ],
   "source": [
    "s=\"aaaabbbccccdd\"\n",
    "#sum=0\n",
    "for i in set(s):\n",
    "    if i=='a':\n",
    "        print('A count : ',s.count(i))\n",
    "    if i=='b':\n",
    "        print('B count : ',s.count(i))\n",
    "    if i=='c':\n",
    "        print('C count : ',s.count(i))\n",
    "    if i=='d':\n",
    "        print('D count : ',s.count(i))"
   ]
  },
  {
   "cell_type": "code",
   "execution_count": 52,
   "id": "9074517a",
   "metadata": {},
   "outputs": [
    {
     "name": "stdout",
     "output_type": "stream",
     "text": [
      "3 <class 'int'>\n",
      "4 <class 'int'>\n",
      "3 <class 'int'>\n",
      "5 <class 'int'>\n",
      "5 <class 'int'>\n",
      "6 <class 'int'>\n",
      "4 <class 'int'>\n",
      "5 <class 'int'>\n",
      "3 <class 'int'>\n",
      "4 <class 'int'>\n",
      "5 <class 'int'>\n",
      "7 <class 'int'>\n",
      "6 <class 'int'>\n"
     ]
    }
   ],
   "source": [
    "i=3435564534576\n",
    "for j in str(i):\n",
    "    k=int(j)\n",
    "    print(k,type(k))"
   ]
  },
  {
   "cell_type": "code",
   "execution_count": 53,
   "id": "85f6cc94",
   "metadata": {},
   "outputs": [],
   "source": [
    "t=(\"sudh\",\"kumar\",[1,2,3,4,5],(3,4,5,6),{'key1':'sand','key2':'nand'})"
   ]
  },
  {
   "cell_type": "code",
   "execution_count": 54,
   "id": "a121b2ac",
   "metadata": {},
   "outputs": [
    {
     "name": "stdout",
     "output_type": "stream",
     "text": [
      "3\n",
      "3\n"
     ]
    }
   ],
   "source": [
    "for i in t:\n",
    "    if type(i) == list or type(i)==tuple:\n",
    "        for j in i:\n",
    "            if j==3:\n",
    "                print(j)\n",
    "    if type(i)== dict:\n",
    "        for k,v in i.items():\n",
    "            if k==3 or v==3:\n",
    "                print(k)\n",
    "                print(v)\n",
    "         "
   ]
  },
  {
   "cell_type": "code",
   "execution_count": null,
   "id": "276faa3a",
   "metadata": {},
   "outputs": [],
   "source": []
  },
  {
   "cell_type": "code",
   "execution_count": null,
   "id": "56a2962f",
   "metadata": {},
   "outputs": [],
   "source": []
  },
  {
   "cell_type": "code",
   "execution_count": null,
   "id": "8b3a474c",
   "metadata": {},
   "outputs": [],
   "source": []
  },
  {
   "cell_type": "code",
   "execution_count": null,
   "id": "c25ccc56",
   "metadata": {},
   "outputs": [],
   "source": []
  },
  {
   "cell_type": "code",
   "execution_count": null,
   "id": "bb532899",
   "metadata": {},
   "outputs": [],
   "source": []
  },
  {
   "cell_type": "code",
   "execution_count": null,
   "id": "c9d3025d",
   "metadata": {},
   "outputs": [],
   "source": []
  },
  {
   "cell_type": "code",
   "execution_count": null,
   "id": "b967f83b",
   "metadata": {},
   "outputs": [],
   "source": []
  },
  {
   "cell_type": "code",
   "execution_count": null,
   "id": "9d40da0b",
   "metadata": {},
   "outputs": [],
   "source": []
  },
  {
   "cell_type": "code",
   "execution_count": null,
   "id": "857c4ef6",
   "metadata": {},
   "outputs": [],
   "source": []
  },
  {
   "cell_type": "code",
   "execution_count": null,
   "id": "0a0d7314",
   "metadata": {},
   "outputs": [],
   "source": []
  },
  {
   "cell_type": "code",
   "execution_count": null,
   "id": "2a34f558",
   "metadata": {},
   "outputs": [],
   "source": []
  },
  {
   "cell_type": "code",
   "execution_count": null,
   "id": "24520db1",
   "metadata": {},
   "outputs": [],
   "source": []
  },
  {
   "cell_type": "code",
   "execution_count": null,
   "id": "0ba7bf41",
   "metadata": {},
   "outputs": [],
   "source": []
  },
  {
   "cell_type": "code",
   "execution_count": null,
   "id": "6a654aba",
   "metadata": {},
   "outputs": [],
   "source": []
  },
  {
   "cell_type": "code",
   "execution_count": null,
   "id": "82ea31b1",
   "metadata": {},
   "outputs": [],
   "source": []
  },
  {
   "cell_type": "code",
   "execution_count": null,
   "id": "c80fa8b8",
   "metadata": {},
   "outputs": [],
   "source": []
  }
 ],
 "metadata": {
  "kernelspec": {
   "display_name": "Python 3 (ipykernel)",
   "language": "python",
   "name": "python3"
  },
  "language_info": {
   "codemirror_mode": {
    "name": "ipython",
    "version": 3
   },
   "file_extension": ".py",
   "mimetype": "text/x-python",
   "name": "python",
   "nbconvert_exporter": "python",
   "pygments_lexer": "ipython3",
   "version": "3.9.7"
  }
 },
 "nbformat": 4,
 "nbformat_minor": 5
}
