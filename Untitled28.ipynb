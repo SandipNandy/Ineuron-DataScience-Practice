{
 "cells": [
  {
   "cell_type": "code",
   "execution_count": 6,
   "id": "9d7fa9b2",
   "metadata": {},
   "outputs": [],
   "source": [
    "ages=[12,23,45,57,121,435,36,78,90,99,87,56,23,64,153,45,76,32,312,88,82,83,56,76,24,55,89,165,565,555,767,231,233,47]"
   ]
  },
  {
   "cell_type": "code",
   "execution_count": 7,
   "id": "cf47df79",
   "metadata": {},
   "outputs": [
    {
     "data": {
      "text/plain": [
       "34"
      ]
     },
     "execution_count": 7,
     "metadata": {},
     "output_type": "execute_result"
    }
   ],
   "source": [
    "len(ages)"
   ]
  },
  {
   "cell_type": "code",
   "execution_count": 10,
   "id": "1b3fb3e6",
   "metadata": {},
   "outputs": [
    {
     "data": {
      "text/plain": [
       "145.88235294117646"
      ]
     },
     "execution_count": 10,
     "metadata": {},
     "output_type": "execute_result"
    }
   ],
   "source": [
    "import numpy as np\n",
    "np.mean(ages)"
   ]
  },
  {
   "cell_type": "code",
   "execution_count": 11,
   "id": "00905d23",
   "metadata": {},
   "outputs": [
    {
     "name": "stdout",
     "output_type": "stream",
     "text": [
      "mean=110.18 stdv=2.28\n",
      "Reject Null Hypothesis\n"
     ]
    }
   ],
   "source": [
    "# imports\n",
    "import math\n",
    "import numpy as np\n",
    "from numpy.random import randn\n",
    "from statsmodels.stats.weightstats import ztest\n",
    "\n",
    "# Generate a random array of 50 numbers having mean 110 and sd 15\n",
    "# similar to the IQ scores data we assume above\n",
    "mean_iq = 110\n",
    "sd_iq = 15/math.sqrt(50)\n",
    "alpha =0.05\n",
    "null_mean =100\n",
    "data = sd_iq*randn(50)+mean_iq\n",
    "# print mean and sd\n",
    "print('mean=%.2f stdv=%.2f' % (np.mean(data), np.std(data)))\n",
    "\n",
    "# now we perform the test. In this function, we passed data, in the value parameter\n",
    "# we passed mean value in the null hypothesis, in alternative hypothesis we check whether the\n",
    "# mean is larger\n",
    "\n",
    "ztest_Score, p_value= ztest(data,value = null_mean)\n",
    "# the function outputs a p_value and z-score corresponding to that value, we compare the\n",
    "# p-value with alpha, if it is greater than alpha then we do not null hypothesis\n",
    "# else we reject it.\n",
    "\n",
    "if(p_value < alpha):\n",
    "  print(\"Reject Null Hypothesis\")\n",
    "else:\n",
    "  print(\"Fail to Reject NUll Hypothesis\")"
   ]
  },
  {
   "cell_type": "code",
   "execution_count": null,
   "id": "66af0df4",
   "metadata": {},
   "outputs": [],
   "source": []
  },
  {
   "cell_type": "code",
   "execution_count": null,
   "id": "25edc86c",
   "metadata": {},
   "outputs": [],
   "source": []
  }
 ],
 "metadata": {
  "kernelspec": {
   "display_name": "Python 3 (ipykernel)",
   "language": "python",
   "name": "python3"
  },
  "language_info": {
   "codemirror_mode": {
    "name": "ipython",
    "version": 3
   },
   "file_extension": ".py",
   "mimetype": "text/x-python",
   "name": "python",
   "nbconvert_exporter": "python",
   "pygments_lexer": "ipython3",
   "version": "3.9.7"
  }
 },
 "nbformat": 4,
 "nbformat_minor": 5
}
