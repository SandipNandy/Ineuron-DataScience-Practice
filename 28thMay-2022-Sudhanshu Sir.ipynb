{
 "cells": [
  {
   "cell_type": "code",
   "execution_count": 1,
   "id": "aa0ccff7",
   "metadata": {},
   "outputs": [
    {
     "name": "stdout",
     "output_type": "stream",
     "text": [
      "ineuron \r\n",
      "ineuron ineuron \r\n",
      "ineuron ineuron ineuron \r\n",
      "ineuron ineuron ineuron ineuron \r\n"
     ]
    }
   ],
   "source": [
    "n=4\n",
    "for i in range(0,n):\n",
    "    for j in range(0,i+1):\n",
    "        print(\"ineuron \",end=\"\")\n",
    "    print(\"\\r\")"
   ]
  },
  {
   "cell_type": "code",
   "execution_count": 8,
   "id": "c6499b05",
   "metadata": {},
   "outputs": [
    {
     "name": "stdout",
     "output_type": "stream",
     "text": [
      "  ineuron \n",
      " ineuron ineuron \n",
      "ineuron ineuron ineuron \n",
      " ineuron ineuron \n",
      "  ineuron \n"
     ]
    }
   ],
   "source": [
    "rows = 2\n",
    "k = 2 * rows - 2\n",
    "for i in range(0, rows):\n",
    "    for j in range(0, k):\n",
    "        print(end=\" \")\n",
    "    k = k - 1\n",
    "    for j in range(0, i + 1):\n",
    "        print(\"ineuron \", end=\"\")\n",
    "    print(\"\")\n",
    "    \n",
    "k = rows - 2\n",
    "\n",
    "for i in range(rows, -1, -1):\n",
    "    for j in range(k, 0, -1):\n",
    "        print(end=\" \")\n",
    "    k = k + 1\n",
    "    for j in range(0, i + 1):\n",
    "        print(\"ineuron \", end=\"\")\n",
    "    print(\"\")"
   ]
  },
  {
   "cell_type": "code",
   "execution_count": 10,
   "id": "c87d62d4",
   "metadata": {},
   "outputs": [],
   "source": [
    "l=[[1,2,3,4],[2,3,4,5,6],(3,4,5,6,7),set([23,4,5,45,4,4,5,45,45,4,5]),{'k1':\"sudh\",'k2':\"ineuron\",'k3':\"kumar\",3:6,7:8},['ineuron','data science']]"
   ]
  },
  {
   "cell_type": "code",
   "execution_count": 12,
   "id": "8db15b76",
   "metadata": {},
   "outputs": [
    {
     "name": "stdout",
     "output_type": "stream",
     "text": [
      "[1, 2, 3, 4]\n",
      "[2, 3, 4, 5, 6]\n",
      "['ineuron', 'data science']\n"
     ]
    }
   ],
   "source": [
    "# Try to extract all the list entity\n",
    "for i in l :\n",
    "    if type(i) == list :\n",
    "        print(i)    "
   ]
  },
  {
   "cell_type": "code",
   "execution_count": 15,
   "id": "93aa384c",
   "metadata": {},
   "outputs": [
    {
     "name": "stdout",
     "output_type": "stream",
     "text": [
      "{'k1': 'sudh', 'k2': 'ineuron', 'k3': 'kumar', 3: 6, 7: 8}\n"
     ]
    }
   ],
   "source": [
    "#Try to extract all the dict entity\n",
    "for i in l:\n",
    "    if type(i)== dict:\n",
    "        print(i)"
   ]
  },
  {
   "cell_type": "code",
   "execution_count": 16,
   "id": "5190ba97",
   "metadata": {},
   "outputs": [
    {
     "name": "stdout",
     "output_type": "stream",
     "text": [
      "(3, 4, 5, 6, 7)\n"
     ]
    }
   ],
   "source": [
    "#Try to extract all the tuple entity\n",
    "for i in l:\n",
    "    if type(i) == tuple:\n",
    "        print(i)"
   ]
  },
  {
   "cell_type": "code",
   "execution_count": 46,
   "id": "a28bfe08",
   "metadata": {},
   "outputs": [
    {
     "name": "stdout",
     "output_type": "stream",
     "text": [
      "1\n",
      "2\n",
      "3\n",
      "4\n",
      "2\n",
      "3\n",
      "4\n",
      "5\n",
      "6\n",
      "3\n",
      "4\n",
      "5\n",
      "6\n",
      "7\n",
      "45\n",
      "4\n",
      "5\n",
      "23\n",
      "3 : 6\n",
      "7 : 8\n"
     ]
    }
   ],
   "source": [
    "#Try to extract all the numerical data, It may be a part of dict key and value.\n",
    "for i in l:\n",
    "    if type(i)==list:\n",
    "        for j in i:\n",
    "            if type(j)==int:\n",
    "                print(j)\n",
    "    if type(i)==tuple:\n",
    "        for j in i:\n",
    "            if type(j)==int:\n",
    "                print(j)\n",
    "    if type(i)== set:\n",
    "        for j in i:\n",
    "            if type(j)==int:\n",
    "                print(j)\n",
    "        \n",
    "    if type(i)==dict:\n",
    "         for j in i:\n",
    "            if type(j)==int or type(i[j])==int:\n",
    "                print(j,\":\",i[j])\n",
    "        "
   ]
  },
  {
   "cell_type": "code",
   "execution_count": 49,
   "id": "3a0bcaf7",
   "metadata": {},
   "outputs": [
    {
     "name": "stdout",
     "output_type": "stream",
     "text": [
      "Summation of all the Data :  156\n"
     ]
    }
   ],
   "source": [
    "#Give a try to make summation of all the numerical data\n",
    "sum=0\n",
    "for i in l:\n",
    "    if type(i)==list:\n",
    "        for j in i:\n",
    "            if type(j)==int:\n",
    "               # print(j)\n",
    "                sum=sum+j\n",
    "    if type(i)==tuple:\n",
    "        for j in i:\n",
    "            if type(j)==int:\n",
    "               # print(j)\n",
    "                sum=sum+j\n",
    "    if type(i)== set:\n",
    "        for j in i:\n",
    "            if type(j)==int:\n",
    "                #print(j)\n",
    "                sum=sum+j\n",
    "        \n",
    "    if type(i)==dict:\n",
    "         for j in i:\n",
    "            if type(j)==int or type(i[j])==int:\n",
    "               # print(j,\":\",i[j])\n",
    "                sum=sum+j+i[j]\n",
    "print(\"Summation of all the Data : \",sum)"
   ]
  },
  {
   "cell_type": "code",
   "execution_count": 58,
   "id": "82d477ff",
   "metadata": {},
   "outputs": [
    {
     "name": "stdout",
     "output_type": "stream",
     "text": [
      "1\n",
      "3\n",
      "3\n",
      "5\n",
      "3\n",
      "5\n",
      "7\n",
      "45\n",
      "5\n",
      "23\n",
      "3\n",
      "7\n"
     ]
    }
   ],
   "source": [
    "#Try to filter out all teh odd values out of all numeric data which is a part of list\n",
    "for i in l:\n",
    "    if type(i)==list:\n",
    "        for j in i:\n",
    "            if type(j)==int and (j % 2) != 0:\n",
    "                print(j)\n",
    "    if type(i)==tuple:\n",
    "        for j in i:\n",
    "            if type(j)==int and (j%2)!=0:\n",
    "                print(j)\n",
    "                \n",
    "    if type(i)== set:\n",
    "        for j in i:\n",
    "            if type(j)==int and (j%2)!=0:\n",
    "                 print(j)\n",
    "               \n",
    "        \n",
    "    if type(i)==dict:\n",
    "         for j in i:\n",
    "            if type(j)==int or type(i[j])==int:\n",
    "                if (j%2)!= 0:\n",
    "                        print(j)\n",
    "                if(i[j]%2)!=0:\n",
    "                    print(j)\n",
    "              "
   ]
  },
  {
   "cell_type": "code",
   "execution_count": 62,
   "id": "35ed4616",
   "metadata": {},
   "outputs": [
    {
     "name": "stdout",
     "output_type": "stream",
     "text": [
      "k2 : ineuron\n",
      "ineuron\n"
     ]
    }
   ],
   "source": [
    "#Try to extract \"ineuron\" out of data\n",
    "for i in l:\n",
    "    if type(i)==dict:\n",
    "        for j in i:\n",
    "            if i[j]=='ineuron':\n",
    "                print(j,\":\",i[j])\n",
    "    else :\n",
    "        for j in i:\n",
    "            if j=='ineuron':\n",
    "                print(j)\n"
   ]
  },
  {
   "cell_type": "code",
   "execution_count": 63,
   "id": "e4ba7685",
   "metadata": {},
   "outputs": [
    {
     "name": "stdout",
     "output_type": "stream",
     "text": [
      "1\n",
      "1\n",
      "1\n",
      "1\n",
      "1\n",
      "1\n",
      "1\n",
      "1\n",
      "1\n",
      "1\n",
      "1\n",
      "1\n",
      "1\n",
      "1\n"
     ]
    },
    {
     "ename": "AttributeError",
     "evalue": "'set' object has no attribute 'count'",
     "output_type": "error",
     "traceback": [
      "\u001b[1;31m---------------------------------------------------------------------------\u001b[0m",
      "\u001b[1;31mAttributeError\u001b[0m                            Traceback (most recent call last)",
      "\u001b[1;32mC:\\Users\\0038IG~1\\AppData\\Local\\Temp/ipykernel_6652/2882572512.py\u001b[0m in \u001b[0;36m<module>\u001b[1;34m\u001b[0m\n\u001b[0;32m      2\u001b[0m \u001b[1;32mfor\u001b[0m \u001b[0mi\u001b[0m \u001b[1;32min\u001b[0m \u001b[0ml\u001b[0m\u001b[1;33m:\u001b[0m\u001b[1;33m\u001b[0m\u001b[1;33m\u001b[0m\u001b[0m\n\u001b[0;32m      3\u001b[0m     \u001b[1;32mfor\u001b[0m \u001b[0mj\u001b[0m \u001b[1;32min\u001b[0m \u001b[0mset\u001b[0m\u001b[1;33m(\u001b[0m\u001b[0mi\u001b[0m\u001b[1;33m)\u001b[0m\u001b[1;33m:\u001b[0m\u001b[1;33m\u001b[0m\u001b[1;33m\u001b[0m\u001b[0m\n\u001b[1;32m----> 4\u001b[1;33m         \u001b[0mprint\u001b[0m\u001b[1;33m(\u001b[0m\u001b[0mi\u001b[0m\u001b[1;33m.\u001b[0m\u001b[0mcount\u001b[0m\u001b[1;33m(\u001b[0m\u001b[0mj\u001b[0m\u001b[1;33m)\u001b[0m\u001b[1;33m)\u001b[0m\u001b[1;33m\u001b[0m\u001b[1;33m\u001b[0m\u001b[0m\n\u001b[0m\u001b[0;32m      5\u001b[0m \u001b[1;33m\u001b[0m\u001b[0m\n",
      "\u001b[1;31mAttributeError\u001b[0m: 'set' object has no attribute 'count'"
     ]
    }
   ],
   "source": [
    "# Try to find out a number of occurances of all the data \n",
    "for i in l:\n",
    "    for j in set(i):\n",
    "        \n",
    "        "
   ]
  },
  {
   "cell_type": "code",
   "execution_count": 64,
   "id": "e5492016",
   "metadata": {},
   "outputs": [
    {
     "name": "stdout",
     "output_type": "stream",
     "text": [
      "5\n"
     ]
    }
   ],
   "source": [
    "# Try to find out number of keys in dict element\n",
    "for i in l:\n",
    "    if type(i)==dict:\n",
    "         print(len(i.keys()))"
   ]
  },
  {
   "cell_type": "code",
   "execution_count": 67,
   "id": "66b98574",
   "metadata": {},
   "outputs": [
    {
     "name": "stdout",
     "output_type": "stream",
     "text": [
      "k1\n",
      "k2\n",
      "k3\n",
      "ineuron\n",
      "data science\n"
     ]
    }
   ],
   "source": [
    "# Try to filter out all the string data\n",
    "for i in l:\n",
    "    for j in i:\n",
    "        if type(j)==str:\n",
    "            print(j)"
   ]
  },
  {
   "cell_type": "code",
   "execution_count": 75,
   "id": "2d743c3c",
   "metadata": {},
   "outputs": [
    {
     "name": "stdout",
     "output_type": "stream",
     "text": [
      "ineuron\n"
     ]
    }
   ],
   "source": [
    "# Try to Find  out alphanum in data\n",
    "for i in l:\n",
    "    for j in i:\n",
    "        if str(j).isalpha()==True:\n",
    "            print(j)\n",
    "        "
   ]
  },
  {
   "cell_type": "code",
   "execution_count": 90,
   "id": "c1a4f70c",
   "metadata": {},
   "outputs": [
    {
     "name": "stdout",
     "output_type": "stream",
     "text": [
      "0 : 24\n",
      "1 : 17280\n",
      "2 : 43545600\n",
      "3 : 901393920000\n",
      "4 : 18929272320000\n",
      "5 : 18929272320000\n"
     ]
    }
   ],
   "source": [
    "# Try to find out multiplication of all numeric value in  the individual collection inside dataset\n",
    "mul=1\n",
    "for i in l:\n",
    "    for j in i:\n",
    "        if type(j)==int:\n",
    "            mul=mul*j\n",
    "    print(l.index(i),\":\",mul) "
   ]
  },
  {
   "cell_type": "code",
   "execution_count": 112,
   "id": "c996d9ce",
   "metadata": {},
   "outputs": [
    {
     "name": "stdout",
     "output_type": "stream",
     "text": [
      "[[1, 2, 3, 4], [2, 3, 4, 5, 6], [3, 4, 5, 6, 7], [45, 4, 5, 23], dict_items([('k1', 'sudh'), ('k2', 'ineuron'), ('k3', 'kumar'), (3, 6), (7, 8)]), ['ineuron', 'data science']]\n"
     ]
    }
   ],
   "source": [
    "# Try to unwrape all the collection inside collection and create a flat list \n",
    "l=[[1,2,3,4],[2,3,4,5,6],(3,4,5,6,7),set([23,4,5,45,4,4,5,45,45,4,5]),{'k1':\"sudh\",'k2':\"ineuron\",'k3':\"kumar\",3:6,7:8},['ineuron','data science']]\n",
    "l1=[]\n",
    "for i in l:\n",
    "    if type(i)==list:\n",
    "        l1.append(i)\n",
    "    if type(i)==set:\n",
    "        l1.append(list(i))\n",
    "    if type(i)==dict:\n",
    "        l1.append(i.items())\n",
    "    if type(i)==tuple:\n",
    "        l1.append(list(i))\n",
    "print(l1)"
   ]
  },
  {
   "cell_type": "code",
   "execution_count": 109,
   "id": "1dd8ce7d",
   "metadata": {},
   "outputs": [
    {
     "data": {
      "text/plain": [
       "[3, 4, 5, 6, 7]"
      ]
     },
     "execution_count": 109,
     "metadata": {},
     "output_type": "execute_result"
    }
   ],
   "source": []
  },
  {
   "cell_type": "code",
   "execution_count": 101,
   "id": "8dfe177f",
   "metadata": {},
   "outputs": [
    {
     "data": {
      "text/plain": [
       "[('k1', 'sudh'), ('k2', 'ineuron'), ('k3', 'kumar'), (3, 6), (7, 8)]"
      ]
     },
     "execution_count": 101,
     "metadata": {},
     "output_type": "execute_result"
    }
   ],
   "source": []
  },
  {
   "cell_type": "code",
   "execution_count": null,
   "id": "416c6590",
   "metadata": {},
   "outputs": [],
   "source": []
  }
 ],
 "metadata": {
  "kernelspec": {
   "display_name": "Python 3 (ipykernel)",
   "language": "python",
   "name": "python3"
  },
  "language_info": {
   "codemirror_mode": {
    "name": "ipython",
    "version": 3
   },
   "file_extension": ".py",
   "mimetype": "text/x-python",
   "name": "python",
   "nbconvert_exporter": "python",
   "pygments_lexer": "ipython3",
   "version": "3.9.7"
  }
 },
 "nbformat": 4,
 "nbformat_minor": 5
}
